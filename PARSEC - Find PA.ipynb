{
 "cells": [
  {
   "cell_type": "markdown",
   "metadata": {},
   "source": [
    "<table>\n",
    "    <h2>Conversion from Brazilian Standards (SNUC)</h2>\n",
    "    <tr>\n",
    "        <th>Proteção Integral (PI)</th>\n",
    "        <td><a href=\"https://en.wikipedia.org/wiki/Ecological_station_(Brazil)\">Estação ecológica</a></td>\n",
    "        <td><a href=\"https://en.wikipedia.org/wiki/Biological_reserve_(Brazil)\">Reserva biológica</a></td>\n",
    "        <td><a href=\"https://en.wikipedia.org/wiki/National_park\">Parque nacional</a></td>\n",
    "        <td><a href=\"https://en.wikipedia.org/wiki/Natural_monument\">Monumento natural</a></td>\n",
    "        <td><a href=\"https://en.wikipedia.org/wiki/Wildlife_refuge_(Brazil)\">Refúgio de vida silvestre</a></td>\n",
    "    </tr>\n",
    "    <tr>\n",
    "        <th>Uso Sustentável (US)</th>\n",
    "        <td><a href=\"https://en.wikipedia.org/wiki/Area_of_relevant_ecological_interest_(Brazil)\">Área de relevante interesse ecológico</a></td>\n",
    "        <td><a href=\"https://en.wikipedia.org/wiki/Private_natural_heritage_reserve_(Brazil)\">Reserva particular do patrimônio natural</a></td>\n",
    "        <td><a href=\"https://en.wikipedia.org/wiki/Environmental_protection_area_(Brazil)\">Área de proteção ambiental</a></td>\n",
    "        <td><a href=\"https://en.wikipedia.org/wiki/National_forest_(Brazil)\">Floresta nacional</a></td>\n",
    "        <td><a href=\"https://en.wikipedia.org/wiki/Sustainable_development_reserve_(Brazil)\">Reserva de desenvolvimento sustentável</a></td>\n",
    "        <td><a href=\"https://en.wikipedia.org/wiki/Wildlife_reserve_(Brazil)\">Reserva de fauna</a></td>\n",
    "        <td><a href=\"https://en.wikipedia.org/wiki/Extractive_reserve\">Reserva extrativista</a></td>\n",
    "    </tr>\n",
    "</table>"
   ]
  },
  {
   "cell_type": "markdown",
   "metadata": {},
   "source": [
    "<h2>Source of Data</h2>\n",
    "\n",
    "Populational Data - Source: <a href=\"https://sidra.ibge.gov.br/tabela/6579\">IBGE</a>\n",
    "\n",
    "Protected Areas - Source: i3Geo - Ministry of the Environment (<a href=\"http://mapas.mma.gov.br/i3geo/datadownload.htm\">i3Geo > Áreas Especiais > Unidades de conservação > Unidades de conservação (todas)</a>)<br>(Direct download link: <a href=\"http://mapas.mma.gov.br/ms_tmp/ucstodas.shp\"> .shp</a>, <a href=\"http://mapas.mma.gov.br/ms_tmp/ucstodas.shx\">.shx</a> and <a href=\"http://mapas.mma.gov.br/ms_tmp/ucstodas.dbf\">.dbf</a>)"
   ]
  },
  {
   "cell_type": "markdown",
   "metadata": {},
   "source": [
    "Paramters for script execution"
   ]
  },
  {
   "cell_type": "markdown",
   "metadata": {},
   "source": [
    ">About the requests"
   ]
  },
  {
   "cell_type": "markdown",
   "metadata": {},
   "source": [
    ">>Tip: If you want to search more than one type of protected area (i.e: PI and US), write as following:\n",
    "<b>grupo_UC = ['PI','US']</b>\n",
    "<a href=\"https://www.mma.gov.br/areas-protegidas/unidades-de-conservacao/categorias.html\">Categories of PA by SNUC (Brazil-Standard)</a>"
   ]
  },
  {
   "cell_type": "code",
   "execution_count": 37,
   "metadata": {},
   "outputs": [],
   "source": [
    "#Type of protected area\n",
    "grupo_UC = ['PI']"
   ]
  },
  {
   "cell_type": "markdown",
   "metadata": {},
   "source": [
    ">>Tip: in this paramters, the first value is the minimum year of creation, and the second, the maximum. If you want to search all protected areas created in 2008, write as following:\n",
    "<b>ano_criação = ('2008','2008')</b>"
   ]
  },
  {
   "cell_type": "code",
   "execution_count": 38,
   "metadata": {},
   "outputs": [],
   "source": [
    "#creating year of protected area\n",
    "ano_criação = ('2005','2015') "
   ]
  },
  {
   "cell_type": "markdown",
   "metadata": {},
   "source": [
    ">About database"
   ]
  },
  {
   "cell_type": "code",
   "execution_count": 39,
   "metadata": {},
   "outputs": [],
   "source": [
    "#Table that storage the results of search in the database\n",
    "tabela_resultados = 'perfil_uc_2005_2015_2'"
   ]
  },
  {
   "cell_type": "code",
   "execution_count": 40,
   "metadata": {},
   "outputs": [],
   "source": [
    "#user/password\n",
    "conexao_banco = ('administrador-banco','senha')"
   ]
  },
  {
   "cell_type": "markdown",
   "metadata": {},
   "source": [
    ">About the output data"
   ]
  },
  {
   "cell_type": "code",
   "execution_count": 41,
   "metadata": {},
   "outputs": [],
   "source": [
    "#name of file that contains all data processed (it will be always a .csv file)\n",
    "arquivo_exportado = 'results.csv'"
   ]
  },
  {
   "cell_type": "markdown",
   "metadata": {},
   "source": [
    "The algorithm"
   ]
  },
  {
   "cell_type": "code",
   "execution_count": 42,
   "metadata": {},
   "outputs": [],
   "source": [
    "#dependencies\n",
    "import psycopg2\n",
    "import time\n",
    "import statistics\n",
    "import os\n",
    "import pandas"
   ]
  },
  {
   "cell_type": "code",
   "execution_count": 43,
   "metadata": {},
   "outputs": [],
   "source": [
    "#routine to fetch the query and create a list with all the results\n",
    "def fetch_query(query):\n",
    "\tcur.execute(query)\n",
    "\ttry:\n",
    "\t\tret = cur.fetchall()\n",
    "\t\treturn [p[0] for p in ret]\n",
    "\texcept:\n",
    "\t\tprint(\"fail!\")\n",
    "\t\treturn []"
   ]
  },
  {
   "cell_type": "markdown",
   "metadata": {},
   "source": [
    "Database stuff"
   ]
  },
  {
   "cell_type": "code",
   "execution_count": 44,
   "metadata": {},
   "outputs": [],
   "source": [
    "#create the database(DB) connection\n",
    "con = psycopg2.connect(host='localhost', database='postgres',\n",
    "user=conexao_banco[0], password=conexao_banco[1])\n",
    "cur = con.cursor()\n",
    "\n",
    "#queries\n",
    "grupos_procurados = '('+'OR'.join([\" grupo4 = '\"+g+\"'\" for g in grupo_UC])+')'\n",
    "unidades_conservacao = \"select nome_uc1 from \\\"br.domicilios.mma\\\".ucstodas_final where \"+grupos_procurados+\" and ano_cria6 >= '\"+ano_criação[0]+\"' and ano_cria6 <= '\"+ano_criação[1]+\"'\"\n",
    "cidades_grandes = \"select nome_uc1 from \\\"br.domicilios.mma\\\".ucstodas_final where \"+grupos_procurados+\" and ano_cria6 >= '\"+ano_criação[0]+\"' and ano_cria6 <= '\"+ano_criação[1]+\"'\""
   ]
  },
  {
   "cell_type": "markdown",
   "metadata": {},
   "source": [
    "Queries stuff"
   ]
  },
  {
   "cell_type": "code",
   "execution_count": 45,
   "metadata": {},
   "outputs": [],
   "source": [
    "#Get all Primary Keys (PK) from the Protected Areas (PA) (The PKs on this table is the name of each PA)\n",
    "recset = fetch_query(unidades_conservacao)\n",
    "#list of queries to be done\n",
    "queries = []\n",
    "#list of execution time of each query (we use this for the statistics)\n",
    "tempo = []\n",
    "#progress of the queries (list of queries that was already done)\n",
    "ja_feito = []"
   ]
  },
  {
   "cell_type": "code",
   "execution_count": 46,
   "metadata": {},
   "outputs": [],
   "source": [
    "#Load all queries that already executed (if is the first time, this file is empty,so it will read nothing)\n",
    "try:\n",
    "    with open(\"uc_feitas.txt\",\"r\",encoding='utf-8') as f:\n",
    "        for line in f:\n",
    "            print(line[:-1],\"already processed\")\n",
    "            ja_feito.append(line[:-1])\n",
    "except FileNotFoundError:\n",
    "    #create the file and leave it in blank\n",
    "    open('uc_feitas.txt','w+',encoding='utf-8').close()"
   ]
  },
  {
   "cell_type": "markdown",
   "metadata": {},
   "source": [
    "Execute the search query for each PA's ID that was selected before"
   ]
  },
  {
   "cell_type": "code",
   "execution_count": 47,
   "metadata": {},
   "outputs": [],
   "source": [
    "try:\n",
    "    cur.execute(\"SELECT * from \\\"br.domicilios.mma\\\".\"+tabela_resultados)\n",
    "    con.commit()\n",
    "except psycopg2.errors.UndefinedTable:\n",
    "    con.commit()\n",
    "    print('Creating the table...')\n",
    "    cur.execute(\"CREATE TABLE \\\"br.domicilios.mma\\\".\"+tabela_resultados+\"(\\\n",
    "            gid INTEGER,\\\n",
    "           geocodigo VARCHAR (17),\\\n",
    "           uf VARCHAR (19),\\\n",
    "           municipio VARCHAR (33),\\\n",
    "           habitantes numeric,\\\n",
    "           nome_uc VARCHAR (255),\\\n",
    "           distancia_ VARCHAR (21),\\\n",
    "           geom GEOMETRY\\\n",
    "               )\")\n",
    "    con.commit()\n"
   ]
  },
  {
   "cell_type": "code",
   "execution_count": null,
   "metadata": {
    "scrolled": true
   },
   "outputs": [
    {
     "name": "stdout",
     "output_type": "stream",
     "text": [
      "Fetching REFÚGIO DE VIDA SILVESTRE DOS MORROS DO CARAUNÃ E DO PADRE...\n",
      "1/237 Done. About  3  Hours 17.5 Minutes left\n",
      "Fetching PARQUE NATURAL MUNICIPAL DO CANCãO...\n",
      "2/237 Done. About  2  Hours 1.9333333333333333 Minutes left\n",
      "Fetching PARQUE ESTADUAL GUARIBA...\n",
      "3/237 Done. About  1  Hours 41.833333333333336 Minutes left\n",
      "Fetching PARQUE ESTADUAL SUCUNDURI...\n",
      "4/237 Done. About  1  Hours 45.3 Minutes left\n",
      "Fetching PARQUE ESTADUAL DO MATUPIRI...\n",
      "5/237 Done. About  1  Hours 40.96666666666667 Minutes left\n",
      "Fetching PARQUE ESTADUAL PONTA DA TULHA...\n",
      "6/237 Done. About  1  Hours 32.8 Minutes left\n",
      "Fetching MUNUMENTO NATURAL DOS CANIONS DO SUBAÉ...\n",
      "7/237 Done. About  1  Hours 32.4 Minutes left\n",
      "Fetching ESTAÇÃO ECOLÓGICA DO RIO PRETO...\n",
      "8/237 Done. About  1  Hours 28.166666666666668 Minutes left\n",
      "Fetching PARQUE ESTADUAL DA SERRA DOS MONTES ALTOS...\n",
      "9/237 Done. About  1  Hours 54.5 Minutes left\n",
      "Fetching REFUGIO DE VIDA SILVESTRE DA SERRA DOS MONTES ALTOS...\n",
      "10/237 Done. About  2  Hours 32.0 Minutes left\n",
      "Fetching MONUMENTO NATURAL SÍTIO CANA BRAVA...\n",
      "11/237 Done. About  2  Hours 19.983333333333334 Minutes left\n",
      "Fetching PARQUE ESTADUAL SÍTIO FUNDÃO...\n",
      "12/237 Done. About  2  Hours 11.833333333333334 Minutes left\n",
      "Fetching PARQUE ESTADUAL DAS CARNAÚBAS...\n",
      "13/237 Done. About  2  Hours 7.5 Minutes left\n",
      "Fetching ESTAÇÃO ECOLÓGICA DO PÉCEM...\n",
      "14/237 Done. About  2  Hours 3.2 Minutes left\n",
      "Fetching MONUMENTO NATURAL SÍTIO RIACHO DO MEIO...\n",
      "15/237 Done. About  1  Hours 58.93333333333333 Minutes left\n",
      "Fetching PARQUE NATURAL MUNICIPAL DAS DUNAS DA SABIAGUABA...\n",
      "16/237 Done. About  1  Hours 54.7 Minutes left\n",
      "Fetching ESTAÇÃO ECOLÓGICA DA GUANABARA...\n",
      "17/237 Done. About  1  Hours 50.5 Minutes left\n",
      "Fetching PARQUE NACIONAL DO ALTO CARIRI...\n",
      "18/237 Done. About  1  Hours 46.333333333333336 Minutes left\n",
      "Fetching PARQUE NACIONAL DAS ARAUCÁRIAS...\n",
      "19/237 Done. About  1  Hours 45.85 Minutes left\n",
      "Fetching ESTAÇÃO ECOLÓGICA DA TERRA DO MEIO...\n",
      "20/237 Done. About  1  Hours 45.36666666666667 Minutes left\n",
      "Fetching RESERVA BIOLÓGICA DAS ARAUCÁRIAS...\n",
      "21/237 Done. About  1  Hours 44.88333333333333 Minutes left\n",
      "Fetching PARQUE NACIONAL DO JAMANXIM...\n",
      "22/237 Done. About  1  Hours 44.4 Minutes left\n",
      "Fetching PARQUE NACIONAL DA FURNA FEIA...\n",
      "23/237 Done. About  1  Hours 43.916666666666664 Minutes left\n",
      "Fetching REFúGIO DE VIDA SILVESTRE DO RIO DOS FRADES...\n",
      "24/237 Done. About  1  Hours 39.86666666666667 Minutes left\n",
      "Fetching REFúGIO DE VIDA SILVESTRE DE UNA...\n",
      "25/237 Done. About  1  Hours 39.4 Minutes left\n",
      "Fetching PARQUE NACIONAL NASCENTES DO LAGO JARI...\n",
      "26/237 Done. About  1  Hours 42.46666666666667 Minutes left\n",
      "Fetching PARQUE NACIONAL DA SERRA DE ITABAIANA...\n",
      "27/237 Done. About  1  Hours 41.983333333333334 Minutes left\n",
      "Fetching REFÚGIO DE VIDA SILVESTRE DE BOA NOVA...\n",
      "28/237 Done. About  1  Hours 41.5 Minutes left\n",
      "Fetching PARQUE NACIONAL DA CHAPADA DAS MESAS...\n",
      "29/237 Done. About  1  Hours 41.016666666666666 Minutes left\n",
      "Fetching PARQUE NACIONAL DO RIO NOVO...\n",
      "30/237 Done. About  1  Hours 40.53333333333333 Minutes left\n",
      "Fetching PARQUE NACIONAL GUARICANA...\n",
      "31/237 Done. About  1  Hours 46.95 Minutes left\n",
      "Fetching RESERVA BIOLÓGICA NASCENTES SERRA DO CACHIMBO...\n",
      "32/237 Done. About  1  Hours 49.86666666666667 Minutes left\n",
      "Fetching PARQUE NACIONAL MARINHO DAS ILHAS DOS CURRAIS...\n",
      "33/237 Done. About  1  Hours 45.916666666666664 Minutes left\n",
      "Fetching PARQUE NACIONAL DA SERRA DO GANDARELA...\n",
      "34/237 Done. About  1  Hours 55.6 Minutes left\n",
      "Fetching PARQUE NACIONAL DE JERICOACOARA...\n",
      "35/237 Done. About  1  Hours 55.03333333333333 Minutes left\n",
      "Fetching ESTAçãO ECOLóGICA ALTO MAUéS...\n",
      "36/237 Done. About  1  Hours 54.46666666666667 Minutes left\n",
      "Fetching PARQUE NACIONAL DOS CAMPOS AMAZÔNICOS...\n",
      "37/237 Done. About  1  Hours 53.9 Minutes left\n",
      "Fetching PARQUE NACIONAL DE BOA NOVA...\n",
      "38/237 Done. About  1  Hours 53.333333333333336 Minutes left\n",
      "Fetching ESTAÇÃO ECOLÓGICA DE MATA PRETA...\n",
      "39/237 Done. About  1  Hours 52.766666666666666 Minutes left\n",
      "Fetching PARQUE NACIONAL DOS CAMPOS GERAIS...\n",
      "40/237 Done. About  1  Hours 52.2 Minutes left\n",
      "Fetching RESERVA BIOLÓGICA DAS PEROBAS...\n",
      "41/237 Done. About  1  Hours 48.35 Minutes left\n",
      "Fetching PARQUE NACIONAL DO JURUENA...\n",
      "42/237 Done. About  1  Hours 47.8 Minutes left\n",
      "Fetching RESERVA BIOLÓGICA BOM JESUS...\n",
      "43/237 Done. About  1  Hours 50.5 Minutes left\n",
      "Fetching MONUMENTO NATURAL DO RIO SãO FRANCISCO...\n",
      "44/237 Done. About  1  Hours 49.93333333333333 Minutes left\n",
      "Fetching PARQUE NACIONAL DA SERRA DAS LONTRAS...\n",
      "45/237 Done. About  1  Hours 46.15 Minutes left\n",
      "Fetching REFÚGIO DE VIDA SILVESTRE DE SANTA CRUZ...\n",
      "46/237 Done. About  1  Hours 45.6 Minutes left\n",
      "Fetching PARQUE NACIONAL DA SERRA DO PARDO...\n",
      "47/237 Done. About  1  Hours 45.05 Minutes left\n",
      "Fetching REFÚGIO DE VIDA SILVESTRE DOS CAMPOS DE PALMAS...\n",
      "48/237 Done. About  1  Hours 44.5 Minutes left\n",
      "Fetching PARQUE NACIONAL MAPINGUARI...\n"
     ]
    }
   ],
   "source": [
    "#for each PA\n",
    "for (i,rec) in enumerate(recset):\n",
    "\tprint(\"Fetching %s...\"%rec)\n",
    "    #skip the already processed PAs\n",
    "\tif(rec in ja_feito):\n",
    "\t\tprint(rec,'already done. Skipping...')\n",
    "\t\tcontinue\n",
    "\tstart = time.time()\n",
    "    \n",
    "\t#Execute the query as our paramenters that was set before\n",
    "\tcur.execute(\"INSERT INTO \\\"br.domicilios.mma\\\".\"+tabela_resultados+\"\\\n",
    "\t\tSELECT a.gid, a.geocodigo, \\\n",
    "       CASE\\\n",
    "        WHEN (a.estado = '11' )  THEN 'rondônia'\\\n",
    "        WHEN (a.estado = '12' )  THEN 'acre'\\\n",
    "        WHEN (a.estado = '13' )  THEN 'amazonas'\\\n",
    "        WHEN (a.estado = '14' )  THEN 'roraima'\\\n",
    "        WHEN (a.estado = '15' )  THEN 'pará'\\\n",
    "        WHEN (a.estado = '16' )  THEN 'amapá'\\\n",
    "\t        WHEN (a.estado = '17' )  THEN 'tocantins'\\\n",
    "\t        WHEN (a.estado = '21' )  THEN 'maranhão'\\\n",
    "\t        WHEN (a.estado = '22' )  THEN 'piauí'\\\n",
    "\t        WHEN (a.estado = '23' )  THEN 'ceará'\\\n",
    "\t        WHEN (a.estado = '24' )  THEN 'rio grande do norte'\\\n",
    "\t        WHEN (a.estado = '25' )  THEN 'paraíba'\\\n",
    "\t        WHEN (a.estado = '26' )  THEN 'pernanbuco'\\\n",
    "\t        WHEN (a.estado = '27' )  THEN 'alagoas'\\\n",
    "\t        WHEN (a.estado = '28' )  THEN 'sergipe'\\\n",
    "\t        WHEN (a.estado = '29' )  THEN 'bahia'\\\n",
    "\t        WHEN (a.estado = '31' )  THEN 'minas gerais'\\\n",
    "\t        WHEN (a.estado = '32' )  THEN 'espírito santo'\\\n",
    "\t        WHEN (a.estado = '33' )  THEN 'rio de janeiro'\\\n",
    "\t        WHEN (a.estado = '35' )  THEN 'são paulo'\\\n",
    "\t        WHEN (a.estado = '41' )  THEN 'paraná'\\\n",
    "\t        WHEN (a.estado = '42' )  THEN 'santa catarina'\\\n",
    "\t        WHEN (a.estado = '43' )  THEN 'rio grande do sul'\\\n",
    "\t        WHEN (a.estado = '50' )  THEN 'mato grosso do sul'\\\n",
    "\t        WHEN (a.estado = '51' )  THEN 'mato grosso'\\\n",
    "\t        WHEN (a.estado = '52' )  THEN 'goiás'\\\n",
    "\t        WHEN (a.estado = '53' )  THEN 'distrito federal'\\\n",
    "\t        WHEN (a.estado = '00' )  THEN 'chico mendes'\\\n",
    "\t    END AS UF\\\n",
    "\t, a.nome as municipio, a.habitantes, '\"+rec+\"',\\\n",
    "\t       to_char(ST_DistanceSphere(\\\n",
    "\t                    a.geom, (SELECT b.geom FROM \\\"br.domicilios.mma\\\".ucstodas_final b where b.nome_uc1 = \\'\"+rec+\"\\')\\\n",
    "\t                  ) /1000,'99999999999999999D99') AS \\\"distancia_km\\\", a.geom\\\n",
    "\t  FROM \\\"br.domicilios.mma\\\".municipios_perfil_parsec a\\\n",
    "\t\tWHERE \\\n",
    "\t\t    (ST_DistanceSphere(a.geom, (SELECT b.geom FROM \\\"br.domicilios.mma\\\".ucstodas_final b where b.nome_uc1 = \\'\"+rec+\"\\')) /1000) <= 100  \\\n",
    "\t\tORDER BY\\\n",
    "\t\t  a.geom <#> (SELECT c.geom FROM \\\"br.domicilios.mma\\\".ucstodas_final c where c.nome_uc1 = \\'\"+rec+\"\\');\")\n",
    "\t#apply the modifications\n",
    "\tcon.commit()    \n",
    "\t'''\n",
    "\tThe file below stores the PKs of all the processed queries, \n",
    "\tin order to avoid duplicate cases if this script needs\n",
    "\tto restart all the search.\n",
    "\t'''\n",
    "\tf = open(\"uc_feitas.txt\",\"a+\",encoding='utf-8')\n",
    "\tf.write(rec+\"\\n\")\n",
    "\tf.close()\n",
    "\tfim = time.time()\n",
    "    \n",
    "\t'''\n",
    "\tNote: Since all this process have a great cost\n",
    "\tin terms of computer instructions, this could \n",
    "\trequest a considerable amount of time in \n",
    "\taverage computers. \n",
    "\n",
    "\tDon't be scarred if the remaning time value reaches a high value :)\n",
    "\t(the time of each query execution is about 2 minutes at Core i7-4790 3.60Ghz)\n",
    "\t'''\n",
    "\t#calculate and report the statistics about the program\n",
    "\ttempo.append((fim - start))\n",
    "\tv = int(statistics.mean(tempo))*(len(recset)-i)\n",
    "\tprint(\"%d/%d Done. About \"%(i+1,len(recset)),int(v/3600),\" Hours\",int(v%3600)/60,\"Minutes left\")\n",
    "    "
   ]
  },
  {
   "cell_type": "markdown",
   "metadata": {},
   "source": [
    "Prepare and export the reults into a csv file"
   ]
  },
  {
   "cell_type": "markdown",
   "metadata": {},
   "source": [
    ">Export the raw table into csv data"
   ]
  },
  {
   "cell_type": "code",
   "execution_count": null,
   "metadata": {},
   "outputs": [],
   "source": [
    "#get the current directory\n",
    "curr_directory = os.getcwd()\n",
    "\n",
    "#ensure the csv format\n",
    "if(arquivo_exportado[-4:] != '.csv'):\n",
    "    arquivo_exportado += '.csv'\n",
    "\n",
    "#path to the file\n",
    "file_name = curr_directory+\"/\"+arquivo_exportado\n",
    "\n",
    "#file that contains some cache from our operations\n",
    "temp_file_name = file_name+'.temp'\n",
    "\n",
    "#list of columns to save\n",
    "columns_save = ['gid', 'geocodigo', 'uf', 'municipio', 'habitantes', 'nome_uc', 'distancia_']\n",
    "\n",
    "#export all data to temporary file\n",
    "with open(temp_file_name,'w+',encoding='utf-8') as f:\n",
    "    f.write(';'.join(columns_save)+'\\n')\n",
    "    cur.copy_to(f, '\"br.domicilios.mma\".'+tabela_resultados, columns=tuple(columns_save),sep=';')\n",
    "    con.commit()"
   ]
  },
  {
   "cell_type": "markdown",
   "metadata": {},
   "source": [
    ">Change the table columns into: \n",
    "<br><b>GID</b>: the ID\n",
    "<br><b>Geocodigo</b>: Geocode based on IBGE rules\n",
    "<br><b>UF</b>: Unidades Federativas (Federative Unites, the Subdivisions of Brazil)\n",
    "<br><b>Municipio</b>: Municipality\n",
    "<br><b>Habitantes</b>: size of Population\n",
    "<br><b>UCs_num</b>: Number of protected areas around the Municipality\n",
    "<br><b>UCs_nome</b>: Name of each protected areas.\n",
    "<br><b>Distancias_km</b>: distances (in km), separated by ',' (comma), for each Protected Area, in the same order of the column <b>UCs_nome</b>\n",
    "<br>\n",
    "<br>Is important to note, the value of column <b>UCs_num</b> is the size of the column <b>UCs_nome</b> and <b>Distancias_</b>"
   ]
  },
  {
   "cell_type": "code",
   "execution_count": null,
   "metadata": {},
   "outputs": [],
   "source": [
    "read_content = pandas.read_csv(temp_file_name, delimiter = ';', encoding='utf-8')\n",
    "\n",
    "#store GIDs, Distances, and PA's Names\n",
    "distances_GIDs = {}\n",
    "names_GIDs = {}\n",
    "for gid,distance,name in zip(read_content['gid'],read_content['distancia_'],read_content['nome_uc']):\n",
    "    if(gid in distances_GIDs):\n",
    "        distances_GIDs[gid].append(str(distance))\n",
    "    else:\n",
    "        distances_GIDs[gid] = [str(distance)]\n",
    "    if(gid in names_GIDs):\n",
    "        names_GIDs[gid].append(name)\n",
    "    else:\n",
    "        names_GIDs[gid] = [name]\n",
    "\n",
    "processed_GIDs = []\n",
    "with open(file_name,'w+',encoding='utf-8') as f:\n",
    "    #header of csv\n",
    "    f.write('gid;geocodigo;uf;habitantes;municipio;UCs_num;distancias_km\\n')\n",
    "    for content in zip(read_content['gid'],read_content['geocodigo'],read_content['uf'],read_content['municipio'],read_content['habitantes']):\n",
    "        if(not content[0] in processed_GIDs):\n",
    "            processed_GIDs.append(content[0])\n",
    "            c = [str(s) for s in content]\n",
    "            column_UCs_num = str(len(distances_GIDs[content[0]]))\n",
    "            column_UCs_nome = ','.join(names_GIDs[content[0]])\n",
    "            column_Distancias_km = ','.join(distances_GIDs[content[0]])\n",
    "            buffer = ';'.join(c)+';'+column_UCs_num+';'+column_UCs_nome+'\\n'\n",
    "            f.write(buffer)\n",
    "\n",
    "print('Export the output data into',file_name)\n",
    "#pandas.read_csv(file_name, delimiter = ';', encoding='utf-8')"
   ]
  },
  {
   "cell_type": "markdown",
   "metadata": {},
   "source": [
    "<h2>Example of Operation</h2>\n",
    "<br>Selecting the Municipalities from <a href=\"https://pt.wikipedia.org/wiki/Vale_do_Ribeira\">Vale do Ribeira</a>"
   ]
  },
  {
   "cell_type": "code",
   "execution_count": null,
   "metadata": {},
   "outputs": [],
   "source": [
    "Vale_do_Ribeira = {\n",
    "    'Alto Ribeira'  :['Barra do Chapéu','Itapirapuã Paulista','Apiaí','Itaóca','Iporanga','Ribeira','Adrianópolis'],\n",
    "    'Baixo Ribeira' :['Apiaí','Iporanga','Eldorado','Sete Barras'],\n",
    "    'Rio Ribeira de Iguape' :['Registro','Pariquera-Açu','Iguape'],\n",
    "    'Alto Juquiá' : ['São Lourenço da Serra','Juquitiba','Tapiraí'],\n",
    "    'Médio Juquiá' : ['Tapiraí','Juquiá','Miracatu'],\n",
    "    'Baixo Juquiá' : ['Juquiá','Tapiraí','Sete Barras'],\n",
    "    'Rio São Lourenço' : ['Miracatu','Pedro de Toledo','Juquiá'],\n",
    "    'Rio Itariri': ['Itariri','Pedro de Toledo'],\n",
    "    'Rio Una da Aldeia' : ['Iguape'],\n",
    "    'Rio Pardo' : ['Barra do Turvo'],\n",
    "    'Rio Jacupiranga' : ['Jacupiranga','Pariquera-Açu','Cajati','Registro'],\n",
    "    'Vertente Marítima Sul' : ['Cananéia','Ilha Comprida'],\n",
    "    'Vertente Marítima Norte' : ['Iguape']\n",
    "}\n",
    "\n",
    "\n",
    "municipios = []\n",
    "for região in Vale_do_Ribeira:\n",
    "    municipios += Vale_do_Ribeira[região]\n",
    "\n",
    "#ensure they are all lowercase\n",
    "municipios = [name.lower() for name in municipios]\n",
    "\n",
    "#query\n",
    "print('SELECT * FROM \"br.domicilios.mma\".perfil_uc_2005_2015_2 where municipio = '+' OR municipio = '.join([\"'\"+m+\"'\" for m in municipios]))\n",
    "\n",
    "read_content = pandas.read_csv(file_name, delimiter = ';', encoding='utf-8')\n",
    "\n",
    "file_name_ribeira = curr_directory+'/vale_do_ribeira.csv'\n",
    "with open(file_name_ribeira,'w+',encoding='utf-8') as f:\n",
    "    #header of csv\n",
    "    f.write('gid;geocodigo;uf;habitantes;municipio;UCs_num;distancias_km\\n')\n",
    "    for content in zip(read_content['gid'],read_content['geocodigo'],read_content['uf'],read_content['habitantes'],read_content['municipio'],read_content['UCs_num'],read_content['UCs_nome'],read_content['distancias_km']):\n",
    "        if(content[4] in municipios):\n",
    "            c = [str(s) for s in content]\n",
    "            buffer = ';'.join(c)+'\\n'\n",
    "            f.write(buffer)\n",
    "\n",
    "print('Export the output data into',file_name_ribeira)\n",
    "pandas.read_csv(file_name_ribeira, delimiter = ';', encoding='utf-8')   "
   ]
  },
  {
   "cell_type": "markdown",
   "metadata": {},
   "source": [
    "End of the queries, close the program"
   ]
  },
  {
   "cell_type": "code",
   "execution_count": null,
   "metadata": {},
   "outputs": [],
   "source": [
    "#Close the DB connection\n",
    "con.close()\n",
    "print(\"End :)\")\n",
    "exit(1)"
   ]
  }
 ],
 "metadata": {
  "kernelspec": {
   "display_name": "Python 3",
   "language": "python",
   "name": "python3"
  },
  "language_info": {
   "codemirror_mode": {
    "name": "ipython",
    "version": 3
   },
   "file_extension": ".py",
   "mimetype": "text/x-python",
   "name": "python",
   "nbconvert_exporter": "python",
   "pygments_lexer": "ipython3",
   "version": "3.7.3"
  }
 },
 "nbformat": 4,
 "nbformat_minor": 2
}
