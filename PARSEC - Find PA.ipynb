{
 "cells": [
  {
   "cell_type": "markdown",
   "metadata": {},
   "source": [
    "<table>\n",
    "    <h2>Conversion from Brazilian Standards (SNUC)</h2>\n",
    "    <tr>\n",
    "        <th>Proteção Integral (PI)</th>\n",
    "        <td><a href=\"https://en.wikipedia.org/wiki/Ecological_station_(Brazil)\">Estação ecológica</a></td>\n",
    "        <td><a href=\"https://en.wikipedia.org/wiki/Biological_reserve_(Brazil)\">Reserva biológica</a></td>\n",
    "        <td><a href=\"https://en.wikipedia.org/wiki/National_park\">Parque nacional</a></td>\n",
    "        <td><a href=\"https://en.wikipedia.org/wiki/Natural_monument\">Monumento natural</a></td>\n",
    "        <td><a href=\"https://en.wikipedia.org/wiki/Wildlife_refuge_(Brazil)\">Refúgio de vida silvestre</a></td>\n",
    "    </tr>\n",
    "    <tr>\n",
    "        <th>Uso Sustentável (US)</th>\n",
    "        <td><a href=\"https://en.wikipedia.org/wiki/Area_of_relevant_ecological_interest_(Brazil)\">Área de relevante interesse ecológico</a></td>\n",
    "        <td><a href=\"https://en.wikipedia.org/wiki/Private_natural_heritage_reserve_(Brazil)\">Reserva particular do patrimônio natural</a></td>\n",
    "        <td><a href=\"https://en.wikipedia.org/wiki/Environmental_protection_area_(Brazil)\">Área de proteção ambiental</a></td>\n",
    "        <td><a href=\"https://en.wikipedia.org/wiki/National_forest_(Brazil)\">Floresta nacional</a></td>\n",
    "        <td><a href=\"https://en.wikipedia.org/wiki/Sustainable_development_reserve_(Brazil)\">Reserva de desenvolvimento sustentável</a></td>\n",
    "        <td><a href=\"https://en.wikipedia.org/wiki/Wildlife_reserve_(Brazil)\">Reserva de fauna</a></td>\n",
    "        <td><a href=\"https://en.wikipedia.org/wiki/Extractive_reserve\">Reserva extrativista</a></td>\n",
    "    </tr>\n",
    "</table>"
   ]
  },
  {
   "cell_type": "markdown",
   "metadata": {},
   "source": [
    "<h2>Source of Data</h2>\n",
    "\n",
    "Populational Data - Source: <a href=\"https://sidra.ibge.gov.br/tabela/6579\">IBGE</a>\n",
    "\n",
    "Protected Areas - Source: i3Geo - Ministry of the Environment (<a href=\"http://mapas.mma.gov.br/i3geo/datadownload.htm\">i3Geo > Áreas Especiais > Unidades de conservação > Unidades de conservação (todas)</a>)<br>(Direct download link: <a href=\"http://mapas.mma.gov.br/ms_tmp/ucstodas.shp\"> .shp</a>, <a href=\"http://mapas.mma.gov.br/ms_tmp/ucstodas.shx\">.shx</a> and <a href=\"http://mapas.mma.gov.br/ms_tmp/ucstodas.dbf\">.dbf</a>)"
   ]
  },
  {
   "cell_type": "markdown",
   "metadata": {},
   "source": [
    "<h2>Paramters for script execution</h2>\n",
    "\n",
    "This script has two modes for execution:\n",
    "<ul>\n",
    "    <li><b>Lazy Bootstrap</b>: The script will perform some queries and will create a table (with name defined by the user) with the result of the search. In this mode, the user can select all the paramters before excute the database search layer. Pros: Less Disc Space; Cons: Slow\n",
    "    <li><b>Optimized Bootstrap</b>: The script will perform all possible queries to create a table (named as perfil_uc_all_2). In this mode, the user only select the paramters in the exporting layer, after the execution of the database search layer. Pros: Fast; Cons: More Disc Space (a lot)</li>\n",
    "</ul>\n",
    "\n",
    "The paramters are:\n",
    "<ul>\n",
    "    <li><b>Type of protected areas;</b></li>\n",
    "    <li><b>Year of creation;</b></li>\n",
    "    <li><b>Distance</b> between the city and the protected area;</li>\n",
    "    <li><b>Name</b> of the data;</li>\n",
    "</ul>"
   ]
  },
  {
   "cell_type": "markdown",
   "metadata": {},
   "source": [
    ">Mode of Running\n",
    "><br>0 = Lazy Bootstrap\n",
    "><br>1 = Optimized Bootstrap"
   ]
  },
  {
   "cell_type": "code",
   "execution_count": 1,
   "metadata": {},
   "outputs": [],
   "source": [
    "Enum_Modes = {\n",
    "    \"Lazy\" : 0,\n",
    "    \"Optimized\" : 1,\n",
    "}\n",
    "\n",
    "#You can either use the numbers, or the alias as below\n",
    "mode = Enum_Modes['Lazy']"
   ]
  },
  {
   "cell_type": "markdown",
   "metadata": {},
   "source": [
    ">About the requests"
   ]
  },
  {
   "cell_type": "markdown",
   "metadata": {},
   "source": [
    ">>Tip: If you want to search more than one type of protected area (i.e: PI and US), write as following:\n",
    "<b>grupo_UC = ['PI','US']</b>\n",
    "<a href=\"https://www.mma.gov.br/areas-protegidas/unidades-de-conservacao/categorias.html\">Categories of PA by SNUC (Brazil-Standard)</a>"
   ]
  },
  {
   "cell_type": "code",
   "execution_count": 2,
   "metadata": {},
   "outputs": [],
   "source": [
    "#Type of protected area\n",
    "grupo_UC = ['PI']"
   ]
  },
  {
   "cell_type": "markdown",
   "metadata": {},
   "source": [
    ">>Tip: in this paramters, the first value is the minimum year of creation, and the second, the maximum. If you want to search all protected areas created in 2008, write as following:\n",
    "<b>ano_criação = ('2008','2008')</b>"
   ]
  },
  {
   "cell_type": "code",
   "execution_count": 3,
   "metadata": {},
   "outputs": [],
   "source": [
    "#creating year of protected area\n",
    "#ano_criação = ('2005','2015') \n",
    "ano_criação = ('0000','9999') "
   ]
  },
  {
   "cell_type": "markdown",
   "metadata": {},
   "source": [
    ">Maximum distance between two PA"
   ]
  },
  {
   "cell_type": "code",
   "execution_count": 4,
   "metadata": {},
   "outputs": [],
   "source": [
    "distancia = \"50\""
   ]
  },
  {
   "cell_type": "markdown",
   "metadata": {},
   "source": [
    ">About database"
   ]
  },
  {
   "cell_type": "code",
   "execution_count": 5,
   "metadata": {},
   "outputs": [],
   "source": [
    "#Table that storage the results of search in the database\n",
    "#tabela_resultados = 'perfil_uc_2005_2015_2'\n",
    "tabela_resultados = 'perfil_uc_all'"
   ]
  },
  {
   "cell_type": "code",
   "execution_count": 6,
   "metadata": {},
   "outputs": [],
   "source": [
    "#user/password\n",
    "conexao_banco = ('administrador-banco','senha')"
   ]
  },
  {
   "cell_type": "markdown",
   "metadata": {},
   "source": [
    ">About the output data"
   ]
  },
  {
   "cell_type": "code",
   "execution_count": 7,
   "metadata": {},
   "outputs": [],
   "source": [
    "#name of file that contains all data processed (it will be always a .csv file)\n",
    "arquivo_exportado = 'results.csv'"
   ]
  },
  {
   "cell_type": "markdown",
   "metadata": {},
   "source": [
    "The algorithm"
   ]
  },
  {
   "cell_type": "code",
   "execution_count": 8,
   "metadata": {},
   "outputs": [],
   "source": [
    "#mode change\n",
    "Optimized_params = None\n",
    "if(mode == Enum_Modes['Optimized']):\n",
    "    Optimized_params = {\n",
    "        \"ano_criação\":(int(ano_criação[0]),int(ano_criação[1])),\n",
    "        \"distancia\":float(distancia)\n",
    "    }\n",
    "    \n",
    "    ano_criação = ('0000','9999') \n",
    "    distancia = \"100000\"\n",
    "    tabela_resultados = 'perfil_uc_all_3'"
   ]
  },
  {
   "cell_type": "code",
   "execution_count": 9,
   "metadata": {},
   "outputs": [],
   "source": [
    "#dependencies\n",
    "import psycopg2\n",
    "import time\n",
    "import statistics\n",
    "import os\n",
    "import pandas"
   ]
  },
  {
   "cell_type": "code",
   "execution_count": 10,
   "metadata": {},
   "outputs": [],
   "source": [
    "#routine to fetch the query and create a list with all the results\n",
    "def fetch_query(query):\n",
    "\tcur.execute(query)\n",
    "\ttry:\n",
    "\t\tret = cur.fetchall()\n",
    "\t\treturn [p[0] for p in ret]\n",
    "\texcept:\n",
    "\t\tprint(\"fail!\")\n",
    "\t\treturn []"
   ]
  },
  {
   "cell_type": "markdown",
   "metadata": {},
   "source": [
    "Database stuff"
   ]
  },
  {
   "cell_type": "code",
   "execution_count": 11,
   "metadata": {},
   "outputs": [],
   "source": [
    "#create the database(DB) connection\n",
    "con = psycopg2.connect(host='localhost', database='postgres',\n",
    "user=conexao_banco[0], password=conexao_banco[1])\n",
    "cur = con.cursor()\n",
    "\n",
    "#queries\n",
    "grupos_procurados = '('+'OR'.join([\" grupo4 = '\"+g+\"'\" for g in grupo_UC])+')'\n",
    "unidades_conservacao = \"select nome_uc1 from \\\"br.domicilios.mma\\\".ucstodas_final where \"+grupos_procurados+\" and ano_cria6 >= '\"+ano_criação[0]+\"' and ano_cria6 <= '\"+ano_criação[1]+\"'\"\n",
    "cidades_grandes = \"select nome_uc1 from \\\"br.domicilios.mma\\\".ucstodas_final where \"+grupos_procurados+\" and ano_cria6 >= '\"+ano_criação[0]+\"' and ano_cria6 <= '\"+ano_criação[1]+\"'\""
   ]
  },
  {
   "cell_type": "markdown",
   "metadata": {},
   "source": [
    "Queries stuff"
   ]
  },
  {
   "cell_type": "code",
   "execution_count": 12,
   "metadata": {},
   "outputs": [],
   "source": [
    "#Get all Primary Keys (PK) from the Protected Areas (PA) (The PKs on this table is the name of each PA)\n",
    "recset = fetch_query(unidades_conservacao)\n",
    "#list of queries to be done\n",
    "queries = []\n",
    "#list of execution time of each query (we use this for the statistics)\n",
    "tempo = []\n",
    "#progress of the queries (list of queries that was already done)\n",
    "ja_feito = []"
   ]
  },
  {
   "cell_type": "code",
   "execution_count": 13,
   "metadata": {},
   "outputs": [
    {
     "name": "stdout",
     "output_type": "stream",
     "text": [
      "PARQUE ESTADUAL CHANDLESS already processed\n",
      "REFÚGIO DE VIDA SILVESTRE DOS MORROS DO CARAUNÃ E DO PADRE already processed\n",
      "RESERVA BIOLÓGICA DO PARAZINHO already processed\n",
      "PARQUE NATURAL MUNICIPAL DO CANCãO already processed\n",
      "PARQUE ESTADUAL SERRA DO ARACÁ already processed\n",
      "PARQUE ESTADUAL GUARIBA already processed\n",
      "PARQUE ESTADUAL RIO NEGRO SETOR NORTE already processed\n",
      "PARQUE ESTADUAL SUMAÚMA already processed\n",
      "PARQUE ESTADUAL SUCUNDURI already processed\n",
      "RESERVA BIOLÓGICA MORRO DOS SEIS LAGOS already processed\n",
      "PARQUE ESTADUAL RIO NEGRO SETOR SUL already processed\n",
      "PARQUE ESTADUAL DO MATUPIRI already processed\n",
      "PARQUE ESTADUAL DAS SETE PASSAGENS already processed\n",
      "PARQUE ESTADUAL PONTA DA TULHA already processed\n",
      "MONUMENTO NATURAL PENíNSULA DA SIRIBINHA already processed\n",
      "PARQUE NATURAL MUNICIPAL DA MACAQUEIRAS already processed\n",
      "MUNUMENTO NATURAL DOS CANIONS DO SUBAÉ already processed\n",
      "ESTAÇÃO ECOLÓGICA DO RIO PRETO already processed\n",
      "PARQUE ESTADUAL DO MORRO DO CHAPÉU already processed\n",
      "PARQUE NATURAL MUNICIPAL ZABELE already processed\n",
      "MONUMENTO NATURAL CACHOEIRA DO FERRO DOIDO already processed\n",
      "PARQUE ESTADUAL DA SERRA DOS MONTES ALTOS already processed\n",
      "REFUGIO DE VIDA SILVESTRE DA SERRA DOS MONTES ALTOS already processed\n",
      "PARQUE MUNICIPAL NATURAL DA BOA ESPERANçA already processed\n",
      "ESTAÇÃO ECOLÓGICA ESTADUAL WENCESLAU GUIMARÃES already processed\n",
      "PARQUE ESTADUAL DA SERRA DO CONDURU already processed\n",
      "PARQUE ESTADUAL BOTÂNICO DO CEARÁ already processed\n",
      "PARQUE ESTADUAL DO COCÓ already processed\n",
      "MONUMENTO NATURAL DAS FALÉSIAS DE BEBERIBE already processed\n"
     ]
    }
   ],
   "source": [
    "#Load all queries that already executed (if is the first time, this file is empty,so it will read nothing)\n",
    "try:\n",
    "    with open(\"uc_feitas.txt\",\"r\",encoding='utf-8') as f:\n",
    "        for line in f:\n",
    "            print(line[:-1],\"already processed\")\n",
    "            ja_feito.append(line[:-1])\n",
    "except FileNotFoundError:\n",
    "    #create the file and leave it in blank\n",
    "    open('uc_feitas.txt','w+',encoding='utf-8').close()"
   ]
  },
  {
   "cell_type": "markdown",
   "metadata": {},
   "source": [
    "Execute the search query for each PA's ID that was selected before"
   ]
  },
  {
   "cell_type": "code",
   "execution_count": 14,
   "metadata": {},
   "outputs": [],
   "source": [
    "try:\n",
    "    cur.execute(\"SELECT * from \\\"br.domicilios.mma\\\".\"+tabela_resultados)\n",
    "    con.commit()\n",
    "except psycopg2.errors.UndefinedTable:\n",
    "    con.commit()\n",
    "    print('Creating the table...')\n",
    "    cur.execute(\"CREATE TABLE \\\"br.domicilios.mma\\\".\"+tabela_resultados+\"(\\\n",
    "            gid INTEGER,\\\n",
    "           geocodigo VARCHAR (17),\\\n",
    "           uf VARCHAR (19),\\\n",
    "           municipio VARCHAR (33),\\\n",
    "           habitantes numeric,\\\n",
    "           nome_uc VARCHAR (255),\\\n",
    "           ano_cria VARCHAR (255),\\\n",
    "           distancia_ VARCHAR (21),\\\n",
    "           geom GEOMETRY\\\n",
    "               )\")\n",
    "    con.commit()\n"
   ]
  },
  {
   "cell_type": "code",
   "execution_count": null,
   "metadata": {
    "scrolled": true
   },
   "outputs": [
    {
     "name": "stdout",
     "output_type": "stream",
     "text": [
      "Fetching PARQUE ESTADUAL CHANDLESS...\n",
      "PARQUE ESTADUAL CHANDLESS already done. Skipping...\n",
      "Fetching REFÚGIO DE VIDA SILVESTRE DOS MORROS DO CARAUNÃ E DO PADRE...\n",
      "REFÚGIO DE VIDA SILVESTRE DOS MORROS DO CARAUNÃ E DO PADRE already done. Skipping...\n",
      "Fetching RESERVA BIOLÓGICA DO PARAZINHO...\n",
      "RESERVA BIOLÓGICA DO PARAZINHO already done. Skipping...\n",
      "Fetching PARQUE NATURAL MUNICIPAL DO CANCãO...\n",
      "PARQUE NATURAL MUNICIPAL DO CANCãO already done. Skipping...\n",
      "Fetching PARQUE ESTADUAL SERRA DO ARACÁ...\n",
      "PARQUE ESTADUAL SERRA DO ARACÁ already done. Skipping...\n",
      "Fetching PARQUE ESTADUAL GUARIBA...\n",
      "PARQUE ESTADUAL GUARIBA already done. Skipping...\n",
      "Fetching PARQUE ESTADUAL RIO NEGRO SETOR NORTE...\n",
      "PARQUE ESTADUAL RIO NEGRO SETOR NORTE already done. Skipping...\n",
      "Fetching PARQUE ESTADUAL SUMAÚMA...\n",
      "PARQUE ESTADUAL SUMAÚMA already done. Skipping...\n",
      "Fetching PARQUE ESTADUAL SUCUNDURI...\n",
      "PARQUE ESTADUAL SUCUNDURI already done. Skipping...\n",
      "Fetching RESERVA BIOLÓGICA MORRO DOS SEIS LAGOS...\n",
      "RESERVA BIOLÓGICA MORRO DOS SEIS LAGOS already done. Skipping...\n",
      "Fetching PARQUE ESTADUAL RIO NEGRO SETOR SUL...\n",
      "PARQUE ESTADUAL RIO NEGRO SETOR SUL already done. Skipping...\n",
      "Fetching PARQUE ESTADUAL DO MATUPIRI...\n",
      "PARQUE ESTADUAL DO MATUPIRI already done. Skipping...\n",
      "Fetching PARQUE ESTADUAL DAS SETE PASSAGENS...\n",
      "PARQUE ESTADUAL DAS SETE PASSAGENS already done. Skipping...\n",
      "Fetching PARQUE ESTADUAL PONTA DA TULHA...\n",
      "PARQUE ESTADUAL PONTA DA TULHA already done. Skipping...\n",
      "Fetching MONUMENTO NATURAL PENíNSULA DA SIRIBINHA...\n",
      "MONUMENTO NATURAL PENíNSULA DA SIRIBINHA already done. Skipping...\n",
      "Fetching PARQUE NATURAL MUNICIPAL DA MACAQUEIRAS...\n",
      "PARQUE NATURAL MUNICIPAL DA MACAQUEIRAS already done. Skipping...\n",
      "Fetching MUNUMENTO NATURAL DOS CANIONS DO SUBAÉ...\n",
      "MUNUMENTO NATURAL DOS CANIONS DO SUBAÉ already done. Skipping...\n",
      "Fetching ESTAÇÃO ECOLÓGICA DO RIO PRETO...\n",
      "ESTAÇÃO ECOLÓGICA DO RIO PRETO already done. Skipping...\n",
      "Fetching PARQUE ESTADUAL DO MORRO DO CHAPÉU...\n",
      "PARQUE ESTADUAL DO MORRO DO CHAPÉU already done. Skipping...\n",
      "Fetching PARQUE NATURAL MUNICIPAL ZABELE...\n",
      "PARQUE NATURAL MUNICIPAL ZABELE already done. Skipping...\n",
      "Fetching MONUMENTO NATURAL CACHOEIRA DO FERRO DOIDO...\n",
      "MONUMENTO NATURAL CACHOEIRA DO FERRO DOIDO already done. Skipping...\n",
      "Fetching PARQUE ESTADUAL DA SERRA DOS MONTES ALTOS...\n",
      "PARQUE ESTADUAL DA SERRA DOS MONTES ALTOS already done. Skipping...\n",
      "Fetching REFUGIO DE VIDA SILVESTRE DA SERRA DOS MONTES ALTOS...\n",
      "REFUGIO DE VIDA SILVESTRE DA SERRA DOS MONTES ALTOS already done. Skipping...\n",
      "Fetching PARQUE MUNICIPAL NATURAL DA BOA ESPERANçA...\n",
      "PARQUE MUNICIPAL NATURAL DA BOA ESPERANçA already done. Skipping...\n",
      "Fetching ESTAÇÃO ECOLÓGICA ESTADUAL WENCESLAU GUIMARÃES...\n",
      "ESTAÇÃO ECOLÓGICA ESTADUAL WENCESLAU GUIMARÃES already done. Skipping...\n",
      "Fetching PARQUE ESTADUAL DA SERRA DO CONDURU...\n",
      "PARQUE ESTADUAL DA SERRA DO CONDURU already done. Skipping...\n",
      "Fetching PARQUE ESTADUAL BOTÂNICO DO CEARÁ...\n",
      "PARQUE ESTADUAL BOTÂNICO DO CEARÁ already done. Skipping...\n",
      "Fetching PARQUE ESTADUAL DO COCÓ...\n",
      "PARQUE ESTADUAL DO COCÓ already done. Skipping...\n",
      "Fetching MONUMENTO NATURAL DAS FALÉSIAS DE BEBERIBE...\n",
      "MONUMENTO NATURAL DAS FALÉSIAS DE BEBERIBE already done. Skipping...\n",
      "Fetching MONUMENTO NATURAL SÍTIO CANA BRAVA...\n",
      "30/716 Done. About  2  Hours 40.3 Minutes left\n",
      "Fetching PARQUE ESTADUAL SÍTIO FUNDÃO...\n",
      "31/716 Done. About  2  Hours 40.06666666666667 Minutes left\n",
      "Fetching PARQUE NATURAL MUNICIPAL DAS TIMBAÚBAS...\n",
      "32/716 Done. About  2  Hours 39.833333333333336 Minutes left\n",
      "Fetching PARQUE ESTADUAL MARINHO DA PEDRA DA RISCA DO MEIO...\n",
      "33/716 Done. About  3  Hours 25.2 Minutes left\n",
      "Fetching REFÚGIO DE VIDA SILVESTRE PERIQUITO CARA-SUJA...\n",
      "34/716 Done. About  3  Hours 24.9 Minutes left\n",
      "Fetching PARQUE ESTADUAL DAS CARNAÚBAS...\n",
      "35/716 Done. About  3  Hours 24.6 Minutes left\n",
      "Fetching ESTAÇÃO ECOLÓGICA DO PÉCEM...\n",
      "36/716 Done. About  3  Hours 35.65 Minutes left\n",
      "Fetching MONUMENTO NATURAL SÍTIO RIACHO DO MEIO...\n",
      "37/716 Done. About  3  Hours 24.0 Minutes left\n",
      "Fetching PARQUE NATURAL MUNICIPAL DAS DUNAS DA SABIAGUABA...\n",
      "38/716 Done. About  3  Hours 23.7 Minutes left\n",
      "Fetching ESTAÇÃO ECOLÓGICA DA GUANABARA...\n",
      "39/716 Done. About  3  Hours 34.7 Minutes left\n",
      "Fetching PARQUE NACIONAL DA SERRA GERAL...\n",
      "40/716 Done. About  3  Hours 34.38333333333333 Minutes left\n",
      "Fetching RESERVA BIOLÓGICA DO ABUFARI...\n",
      "41/716 Done. About  4  Hours 7.866666666666666 Minutes left\n",
      "Fetching MONUMENTO NATURAL DAS ILHAS CAGARRAS...\n",
      "42/716 Done. About  4  Hours 18.75 Minutes left\n",
      "Fetching RESERVA BIOLÓGICA DO UATUMÃ...\n",
      "43/716 Done. About  4  Hours 18.366666666666667 Minutes left\n",
      "Fetching PARQUE NACIONAL MAR. DE FERNANDO DE NORONHA...\n",
      "44/716 Done. About  4  Hours 29.2 Minutes left\n",
      "Fetching ESTAÇÃO ECOLÓGICA DO TAIM...\n",
      "45/716 Done. About  4  Hours 28.8 Minutes left\n",
      "Fetching RESERVA BIOLÓGICA DO TAPIRAPÉ...\n",
      "46/716 Done. About  5  Hours 1.95 Minutes left\n",
      "Fetching PARQUE NACIONAL DA CHAPADA DOS VEADEIROS...\n",
      "47/716 Done. About  5  Hours 12.666666666666666 Minutes left\n",
      "Fetching PARQUE NACIONAL DA SERRA DA CANASTRA...\n",
      "48/716 Done. About  6  Hours 52.55 Minutes left\n",
      "Fetching RESERVA BIOLÓGICA DO CÓRREGO GRANDE...\n",
      "49/716 Done. About  6  Hours 40.8 Minutes left\n",
      "Fetching PARQUE NACIONAL DE ILHA GRANDE...\n",
      "50/716 Done. About  6  Hours 51.31666666666667 Minutes left\n",
      "Fetching RESERVA BIOLÓGICA AUGUSTO RUSCHI...\n",
      "51/716 Done. About  6  Hours 39.6 Minutes left\n",
      "Fetching ESTAÇÃO ECOLÓGICA DE CARIJÓS...\n",
      "52/716 Done. About  6  Hours 39.0 Minutes left\n",
      "Fetching PARQUE NACIONAL DO JAÚ...\n",
      "53/716 Done. About  6  Hours 49.46666666666667 Minutes left\n",
      "Fetching ESTAÇÃO ECOLÓGICA DE ARACURI-ESMERALDA...\n",
      "54/716 Done. About  6  Hours 37.8 Minutes left\n",
      "Fetching ESTAÇÃO ECOLÓGICA TUPINAMBÁS...\n",
      "55/716 Done. About  6  Hours 37.2 Minutes left\n",
      "Fetching PARQUE NACIONAL DOS CAMPOS FERRUGINOSOS...\n",
      "56/716 Done. About  6  Hours 36.6 Minutes left\n",
      "Fetching ESTAÇÃO ECOLÓGICA DE CUNIÃ...\n",
      "57/716 Done. About  6  Hours 47.0 Minutes left\n",
      "Fetching ESTAÇÃO ECOLÓGICA DO SERIDÓ...\n",
      "58/716 Done. About  6  Hours 35.4 Minutes left\n",
      "Fetching PARQUE NACIONAL DOS LENÇOIS MARANHENSES...\n",
      "59/716 Done. About  6  Hours 34.8 Minutes left\n",
      "Fetching PARQUE NACIONAL PAU BRASIL...\n",
      "60/716 Done. About  6  Hours 34.2 Minutes left\n",
      "Fetching RESERVA BIOLÓGICA DE SOORETAMA...\n",
      "61/716 Done. About  6  Hours 33.6 Minutes left\n",
      "Fetching PARQUE NACIONAL DE SAINT-HILAIRE/LANGE...\n",
      "62/716 Done. About  6  Hours 54.833333333333336 Minutes left\n",
      "Fetching RESERVA BIOLÓGICA MARINHA DO ARVOREDO...\n",
      "63/716 Done. About  6  Hours 54.2 Minutes left\n",
      "Fetching PARQUE NACIONAL DAS SEMPRE VIVAS...\n",
      "64/716 Done. About  6  Hours 53.56666666666667 Minutes left\n",
      "Fetching PARQUE NACIONAL DO ALTO CARIRI...\n",
      "65/716 Done. About  6  Hours 42.06666666666667 Minutes left\n",
      "Fetching ESTAÇÃO ECOLÓGICA DA SERRA DAS ARARAS...\n",
      "66/716 Done. About  6  Hours 41.45 Minutes left\n",
      "Fetching RESERVA BIOLÓGICA DE UNA...\n",
      "67/716 Done. About  6  Hours 40.833333333333336 Minutes left\n",
      "Fetching PARQUE NACIONAL DE CAPARAO...\n",
      "68/716 Done. About  6  Hours 40.21666666666667 Minutes left\n",
      "Fetching PARQUE NACIONAL DO MONTE RORAIMA...\n",
      "69/716 Done. About  6  Hours 39.6 Minutes left\n",
      "Fetching ESTAÇÃO ECOLÓGICA DO JARI...\n",
      "70/716 Done. About  6  Hours 28.2 Minutes left\n",
      "Fetching ESTAÇÃO ECOLÓGICA DE TAMOIOS...\n",
      "71/716 Done. About  6  Hours 49.13333333333333 Minutes left\n",
      "Fetching PARQUE NACIONAL DE ANAVILHANAS...\n",
      "72/716 Done. About  6  Hours 48.5 Minutes left\n",
      "Fetching ESTAÇÃO ECOLÓGICA DE AIUABA...\n",
      "73/716 Done. About  6  Hours 47.86666666666667 Minutes left\n",
      "Fetching RESERVA BIOLÓGICA DO GUAPORÉ...\n",
      "74/716 Done. About  6  Hours 47.233333333333334 Minutes left\n",
      "Fetching PARQUE NACIONAL DAS ARAUCÁRIAS...\n",
      "75/716 Done. About  6  Hours 46.6 Minutes left\n",
      "Fetching RESERVA BIOLÓGICA DO JARU...\n",
      "76/716 Done. About  6  Hours 45.96666666666667 Minutes left\n",
      "Fetching ESTAÇÃO ECOLÓGICA JUAMI-JAPURÁ...\n",
      "77/716 Done. About  6  Hours 45.333333333333336 Minutes left\n",
      "Fetching RESERVA BIOLÓGICA DA CONTAGEM...\n",
      "78/716 Done. About  6  Hours 34.05 Minutes left\n",
      "Fetching REFÚGIO DE VIDA SILVESTRE DO ARQUIPÉLAGO DE ALCATRAZES...\n",
      "79/716 Done. About  6  Hours 44.06666666666667 Minutes left\n",
      "Fetching RESERVA BIOLÓGICA DE COMBOIOS...\n",
      "80/716 Done. About  6  Hours 43.43333333333333 Minutes left\n",
      "Fetching RESERVA BIOLÓGICA DE SANTA ISABEL...\n"
     ]
    },
    {
     "name": "stdout",
     "output_type": "stream",
     "text": [
      "81/716 Done. About  6  Hours 42.8 Minutes left\n",
      "Fetching PARQUE NACIONAL DO BOQUEIRãO DA ONçA...\n",
      "82/716 Done. About  6  Hours 31.583333333333332 Minutes left\n",
      "Fetching PARQUE NACIONAL DE UBAJARA...\n",
      "83/716 Done. About  6  Hours 30.966666666666665 Minutes left\n",
      "Fetching ESTAÇÃO ECOLÓGICA DA TERRA DO MEIO...\n",
      "84/716 Done. About  6  Hours 30.35 Minutes left\n",
      "Fetching RESERVA BIOLÓGICA DAS ARAUCÁRIAS...\n",
      "85/716 Done. About  6  Hours 29.733333333333334 Minutes left\n",
      "Fetching REFUGIO DE VIDA SILVESTRE ILHA DOS LOBOS...\n",
      "86/716 Done. About  6  Hours 18.6 Minutes left\n",
      "Fetching RESERVA BIOLÓGICA DO LAGO PIRATUBA...\n",
      "87/716 Done. About  6  Hours 18.0 Minutes left\n",
      "Fetching PARQUE NACIONAL DO JAMANXIM...\n",
      "88/716 Done. About  6  Hours 17.4 Minutes left\n",
      "Fetching PARQUE NACIONAL DA FURNA FEIA...\n",
      "89/716 Done. About  6  Hours 16.8 Minutes left\n",
      "Fetching ESTAÇÃO ECOLÓGICA MICO LEÃO PRETO...\n",
      "90/716 Done. About  6  Hours 16.2 Minutes left\n",
      "Fetching ESTAÇÃO ECOLÓGICA DO CASTANHÃO...\n",
      "91/716 Done. About  7  Hours 7.766666666666667 Minutes left\n",
      "Fetching PARQUE NACIONAL MONTANHAS DO TUMUCUMAQUE...\n",
      "92/716 Done. About  6  Hours 56.666666666666664 Minutes left\n",
      "Fetching RESERVA BIOLÓGICA DO CÓRREGO DO VEADO...\n",
      "93/716 Done. About  6  Hours 56.0 Minutes left\n",
      "Fetching PARQUE NACIONAL DO DESCOBRIMENTO...\n",
      "94/716 Done. About  6  Hours 55.333333333333336 Minutes left\n",
      "Fetching REFúGIO DE VIDA SILVESTRE DO RIO DOS FRADES...\n",
      "95/716 Done. About  6  Hours 44.3 Minutes left\n",
      "Fetching ESTAÇÃO ECOLÓGICA DE MARACÁ...\n",
      "96/716 Done. About  6  Hours 43.65 Minutes left\n",
      "Fetching REFúGIO DE VIDA SILVESTRE DE UNA...\n",
      "97/716 Done. About  6  Hours 43.0 Minutes left\n",
      "Fetching PARQUE NACIONAL NASCENTES DO LAGO JARI...\n",
      "98/716 Done. About  6  Hours 42.35 Minutes left\n",
      "Fetching RESERVA BIOLÓGICA UNIÃO...\n"
     ]
    }
   ],
   "source": [
    "#for each PA\n",
    "for (i,rec) in enumerate(recset):\n",
    "\tprint(\"Fetching %s...\"%rec)\n",
    "    #skip the already processed PAs\n",
    "\tif(rec in ja_feito):\n",
    "\t\tprint(rec,'already done. Skipping...')\n",
    "\t\tcontinue\n",
    "\tstart = time.time()\n",
    "\tano_cria = fetch_query(\"(SELECT b.ano_cria6 FROM \\\"br.domicilios.mma\\\".ucstodas_final b where b.nome_uc1 = \\'\"+rec+\"\\')\")[0]    \n",
    "        \n",
    "\t#Execute the query as our paramenters that was set before\n",
    "\tcur.execute(\"INSERT INTO \\\"br.domicilios.mma\\\".\"+tabela_resultados+\"\\\n",
    "\t\tSELECT a.gid, a.geocodigo, \\\n",
    "       CASE\\\n",
    "        WHEN (a.estado = '11' )  THEN 'rondônia'\\\n",
    "        WHEN (a.estado = '12' )  THEN 'acre'\\\n",
    "        WHEN (a.estado = '13' )  THEN 'amazonas'\\\n",
    "        WHEN (a.estado = '14' )  THEN 'roraima'\\\n",
    "        WHEN (a.estado = '15' )  THEN 'pará'\\\n",
    "        WHEN (a.estado = '16' )  THEN 'amapá'\\\n",
    "\t        WHEN (a.estado = '17' )  THEN 'tocantins'\\\n",
    "\t        WHEN (a.estado = '21' )  THEN 'maranhão'\\\n",
    "\t        WHEN (a.estado = '22' )  THEN 'piauí'\\\n",
    "\t        WHEN (a.estado = '23' )  THEN 'ceará'\\\n",
    "\t        WHEN (a.estado = '24' )  THEN 'rio grande do norte'\\\n",
    "\t        WHEN (a.estado = '25' )  THEN 'paraíba'\\\n",
    "\t        WHEN (a.estado = '26' )  THEN 'pernanbuco'\\\n",
    "\t        WHEN (a.estado = '27' )  THEN 'alagoas'\\\n",
    "\t        WHEN (a.estado = '28' )  THEN 'sergipe'\\\n",
    "\t        WHEN (a.estado = '29' )  THEN 'bahia'\\\n",
    "\t        WHEN (a.estado = '31' )  THEN 'minas gerais'\\\n",
    "\t        WHEN (a.estado = '32' )  THEN 'espírito santo'\\\n",
    "\t        WHEN (a.estado = '33' )  THEN 'rio de janeiro'\\\n",
    "\t        WHEN (a.estado = '35' )  THEN 'são paulo'\\\n",
    "\t        WHEN (a.estado = '41' )  THEN 'paraná'\\\n",
    "\t        WHEN (a.estado = '42' )  THEN 'santa catarina'\\\n",
    "\t        WHEN (a.estado = '43' )  THEN 'rio grande do sul'\\\n",
    "\t        WHEN (a.estado = '50' )  THEN 'mato grosso do sul'\\\n",
    "\t        WHEN (a.estado = '51' )  THEN 'mato grosso'\\\n",
    "\t        WHEN (a.estado = '52' )  THEN 'goiás'\\\n",
    "\t        WHEN (a.estado = '53' )  THEN 'distrito federal'\\\n",
    "\t        WHEN (a.estado = '00' )  THEN 'chico mendes'\\\n",
    "\t    END AS UF\\\n",
    "\t, a.nome as municipio, a.habitantes, '\"+rec+\"',\"+ano_cria+\",\\\n",
    "\t       to_char(ST_DistanceSphere(\\\n",
    "\t                    a.geom, (SELECT b.geom FROM \\\"br.domicilios.mma\\\".ucstodas_final b where b.nome_uc1 = \\'\"+rec+\"\\')\\\n",
    "\t                  ) /1000,'99999999999999999D99') AS \\\"distancia_km\\\", a.geom\\\n",
    "\t  FROM \\\"br.domicilios.mma\\\".municipios_perfil_parsec a\\\n",
    "\t\tWHERE \\\n",
    "\t\t    (ST_DistanceSphere(a.geom, (SELECT b.geom FROM \\\"br.domicilios.mma\\\".ucstodas_final b where b.nome_uc1 = \\'\"+rec+\"\\')) /1000) <= \"+distancia+\"  \\\n",
    "        ;\")\n",
    "\t#apply the modifications\n",
    "\tcon.commit()    \n",
    "\t#The file below stores the PKs of all the processed queries, \n",
    "\t#in order to avoid duplicate cases if this script needs\n",
    "\t#to restart all the search.\n",
    "\tf = open(\"uc_feitas.txt\",\"a+\",encoding='utf-8')\n",
    "\tf.write(rec+\"\\n\")\n",
    "\tf.close()\n",
    "\tfim = time.time()\n",
    "    \n",
    "\t\n",
    "\t#Note: Since all this process have a great cost\n",
    "\t#in terms of computer instructions, this could \n",
    "\t#request a considerable amount of time in \n",
    "\t#average computers. \n",
    "\n",
    "\t#Don't be scarred if the remaning time value reaches a high value :)\n",
    "\t#(the time of each query execution is about 2 minutes at Core i7-4790 3.60Ghz)\n",
    "\t\n",
    "\t#calculate and report the statistics about the program\n",
    "\ttempo.append((fim - start))\n",
    "\tv = int(statistics.mean(tempo))*(len(recset)-i)\n",
    "\tprint(\"%d/%d Done. About \"%(i+1,len(recset)),int(v/3600),\" Hours\",int(v%3600)/60,\"Minutes left\")\n",
    "    "
   ]
  },
  {
   "cell_type": "markdown",
   "metadata": {},
   "source": [
    "Prepare and export the reults into a csv file"
   ]
  },
  {
   "cell_type": "markdown",
   "metadata": {},
   "source": [
    ">Export the raw table into csv data"
   ]
  },
  {
   "cell_type": "code",
   "execution_count": null,
   "metadata": {},
   "outputs": [],
   "source": [
    "#get the current directory\n",
    "curr_directory = os.getcwd()\n",
    "\n",
    "#ensure the csv format\n",
    "if(arquivo_exportado[-4:] != '.csv'):\n",
    "    arquivo_exportado += '.csv'\n",
    "\n",
    "#path to the file\n",
    "file_name = curr_directory+\"/\"+arquivo_exportado\n",
    "\n",
    "#file that contains some cache from our operations\n",
    "temp_file_name = file_name+'.temp'\n",
    "\n",
    "#list of columns to save\n",
    "columns_save = ['gid', 'geocodigo', 'uf', 'municipio', 'habitantes', 'nome_uc', 'ano_cria', 'distancia_']\n",
    "\n",
    "#export all data to temporary file\n",
    "with open(temp_file_name,'w+',encoding='latin-1') as f:\n",
    "    f.write(';'.join(columns_save)+'\\n')\n",
    "    cur.copy_to(f, '\"br.domicilios.mma\".'+tabela_resultados, columns=tuple(columns_save),sep=';')\n",
    "    con.commit()"
   ]
  },
  {
   "cell_type": "markdown",
   "metadata": {},
   "source": [
    ">Change the table columns into: \n",
    "<br><b>GID</b>: the ID\n",
    "<br><b>Geocodigo</b>: Geocode based on IBGE rules\n",
    "<br><b>UF</b>: Unidades Federativas (Federative Unites, the Subdivisions of Brazil)\n",
    "<br><b>Municipio</b>: Municipality\n",
    "<br><b>Habitantes</b>: size of Population\n",
    "<br><b>UCs_num</b>: Number of protected areas around the Municipality\n",
    "<br><b>UCs_nome</b>: Name of each protected areas.\n",
    "<br><b>Distancias_km</b>: distances (in km), separated by ',' (comma), for each Protected Area, in the same order of the column <b>UCs_nome</b>\n",
    "<br>\n",
    "<br>Is important to note, the value of column <b>UCs_num</b> is the size of the column <b>UCs_nome</b> and <b>Distancias_</b>"
   ]
  },
  {
   "cell_type": "code",
   "execution_count": null,
   "metadata": {},
   "outputs": [],
   "source": [
    "read_content = pandas.read_csv(temp_file_name, delimiter = ';', encoding='latin-1')\n",
    "\n",
    "#store GIDs, Distances, and PA's Names\n",
    "distances_GIDs = {}\n",
    "names_GIDs = {}\n",
    "years_GIDs = {}\n",
    "for gid,distance,name,year in zip(read_content['gid'],read_content['distancia_'],read_content['nome_uc'],read_content['ano_cria']):\n",
    "    if(gid in distances_GIDs):\n",
    "        distances_GIDs[gid].append(distance.replace(' ','').replace(',','.'))\n",
    "    else:\n",
    "        distances_GIDs[gid] = [distance.replace(' ','').replace(',','.')]\n",
    "    if(gid in names_GIDs):\n",
    "        names_GIDs[gid].append(name)\n",
    "    else:\n",
    "        names_GIDs[gid] = [name]\n",
    "    if(gid in years_GIDs):\n",
    "        years_GIDs[gid].append(year)\n",
    "    else:\n",
    "        years_GIDs[gid] = [year]\n",
    "\n",
    "processed_GIDs = []\n",
    "with open(file_name,'w+',encoding='latin-1') as f:\n",
    "    #header of csv\n",
    "    f.write('gid;geocodigo;uf;municipio;habitantes;UCs_num;UCs_nome;UCs_anos;distancias_km\\n')\n",
    "    for content in zip(read_content['gid'],read_content['geocodigo'],read_content['uf'],read_content['municipio'],read_content['habitantes']):\n",
    "        if(not content[0] in processed_GIDs):\n",
    "            #precisam estar a pelo menos 50km de distancia de uma UC\n",
    "            if(Optimized_params):\n",
    "                if(any([float(d) >= Optimized_params[\"distancia\"] for d in distances_GIDs[content[0]]])):\n",
    "                    continue\n",
    "                if(any([(int(d) >= Optimized_params[\"ano_cria\"][1] and int(d) <= Optimized_params[\"ano_cria\"][0]) for d in year_GIDs[content[0]]])):\n",
    "                    continue\n",
    "            processed_GIDs.append(content[0])\n",
    "            c = [str(s) for s in content]\n",
    "            column_UCs_num = str(len(distances_GIDs[content[0]]))\n",
    "            column_UCs_nome = ','.join(names_GIDs[content[0]])\n",
    "            column_UCs_anos = ','.join(years_GIDs[content[0]])\n",
    "            column_Distancias_km = ','.join(distances_GIDs[content[0]])\n",
    "            buffer = ';'.join(c)+';'+column_UCs_num+';'+column_UCs_nome+';'column_UCs_anos+';'+column_Distancias_km+'\\n'\n",
    "            f.write(buffer)\n",
    "\n",
    "print('Export the output data into',file_name)"
   ]
  },
  {
   "cell_type": "markdown",
   "metadata": {},
   "source": [
    "The function below gather all municipalities from array 'municipios', as the cited conditions"
   ]
  },
  {
   "cell_type": "code",
   "execution_count": null,
   "metadata": {},
   "outputs": [],
   "source": [
    "def export_csv_municipios(municipios,nome_arquivo):\n",
    "    \n",
    "    #ensure they are all lowercase\n",
    "    municipios = [name.lower().replace(\"'\",\"''\") for name in municipios]\n",
    "    \n",
    "    file_name = curr_directory+\"/\"+arquivo_exportado\n",
    "    \n",
    "    read_content = pandas.read_csv(file_name, delimiter = ';', encoding='latin-1')\n",
    "    \n",
    "    municipios_query = []\n",
    "    ucs_names = []\n",
    "    \n",
    "    file_name = curr_directory+'/'+nome_arquivo\n",
    "    with open(file_name,'w+',encoding='latin-1') as f:\n",
    "        #header of csv\n",
    "        f.write('gid;geocodigo;uf;municipio;habitantes;UCs_num;UCs_nome;distancias_km\\n')\n",
    "        for content in zip(read_content['gid'],read_content['geocodigo'],read_content['uf'],read_content['municipio'],read_content['habitantes'],read_content['UCs_num'],read_content['UCs_nome'],read_content['UCs_anos'],read_content['distancias_km']):\n",
    "            if(content[3] in municipios):\n",
    "                municipios_query.append(content[3])\n",
    "                ucs_names += content[6].split(', ')\n",
    "                c = [str(s) for s in content]\n",
    "                buffer = ';'.join(c)+'\\n'\n",
    "                f.write(buffer)\n",
    "    \n",
    "    #query municipios\n",
    "    #print('SELECT * FROM \"br.domicilios.mma\".perfil_uc_2005_2015_2 where municipio = '+' OR municipio = '.join([\"'\"+m+\"'\" for m in municipios_query]))\n",
    "    #query ano\n",
    "    print('SELECT * FROM \"br.domicilios.mma\".ucstodas_final where nome_uc1 = '+' OR nome_uc1 = '.join([\"'\"+m+\"'\" for m in ucs_names]))\n",
    "    print('Export the output data into',file_name)"
   ]
  },
  {
   "cell_type": "markdown",
   "metadata": {},
   "source": [
    "<h2>Example of Operation</h2>\n",
    "<br>Selecting the Municipalities from <a href=\"https://pt.wikipedia.org/wiki/Vale_do_Ribeira\">Vale do Ribeira</a>"
   ]
  },
  {
   "cell_type": "code",
   "execution_count": null,
   "metadata": {
    "scrolled": true
   },
   "outputs": [],
   "source": [
    "Vale_do_Ribeira = {\n",
    "    'Alto Ribeira'  :['Barra do Chapéu','Itapirapuã Paulista','Apiaí','Itaóca','Iporanga','Ribeira','Adrianópolis'],\n",
    "    'Baixo Ribeira' :['Apiaí','Iporanga','Eldorado','Sete Barras'],\n",
    "    'Rio Ribeira de Iguape' :['Registro','Pariquera-Açu','Iguape'],\n",
    "    'Alto Juquiá' : ['São Lourenço da Serra','Juquitiba','Tapiraí'],\n",
    "    'Médio Juquiá' : ['Tapiraí','Juquiá','Miracatu'],\n",
    "    'Baixo Juquiá' : ['Juquiá','Tapiraí','Sete Barras'],\n",
    "    'Rio São Lourenço' : ['Miracatu','Pedro de Toledo','Juquiá'],\n",
    "    'Rio Itariri': ['Itariri','Pedro de Toledo'],\n",
    "    'Rio Una da Aldeia' : ['Iguape'],\n",
    "    'Rio Pardo' : ['Barra do Turvo'],\n",
    "    'Rio Jacupiranga' : ['Jacupiranga','Pariquera-Açu','Cajati','Registro'],\n",
    "    'Vertente Marítima Sul' : ['Cananéia','Ilha Comprida'],\n",
    "    'Vertente Marítima Norte' : ['Iguape']\n",
    "}\n",
    "\n",
    "\n",
    "municipios = []\n",
    "for região in Vale_do_Ribeira:\n",
    "    municipios += Vale_do_Ribeira[região]\n",
    "\n",
    "#do the filter\n",
    "export_csv_municipios(municipios,'vale_do_ribeira.csv')\n",
    "\n",
    "pandas.read_csv('vale_do_ribeira.csv', delimiter = ';', encoding='latin-1')"
   ]
  },
  {
   "cell_type": "markdown",
   "metadata": {},
   "source": [
    "><a href=\"https://www.mma.gov.br/informma/item/4278-mma-define-municipios-da-bacia-do-sao-francisco\"> Macrozoneamento da bacia do rio São Francisco </a>"
   ]
  },
  {
   "cell_type": "code",
   "execution_count": null,
   "metadata": {},
   "outputs": [],
   "source": [
    "bacia_rio_sao_francisco = [\n",
    "    'Campo Formoso','Jacobina','Miguel Calmon','Mirangaba','Morro do Chapéu','Ourolândia','Umburanas','Várzea Nova',\n",
    "'América Dourada','Barra do Mendes','Barro Alto','Bonito','Cafarnaum','Canarana','Central','Ibipeba','Ibititá','Irecê',\n",
    "'João Dourado','Jussara','Lapão','Mulungu do Morro','Presidente Dutra','São Gabriel','Souto Soares','Uibaí','Amparo de São Francisco',\n",
    "'Aquidabã','Brejo Grande','Canhoba','Capela','Cedro de São João','Feira Nova','Gararu','Gracho Cardoso','Ilha das Flores','Itabi',\n",
    "'Japaratuba','Japoatã','Malhada dos Bois','Monte Alegre de Sergipe','Muribeca','Neópolis','Nossa Senhora da Glória','Nossa Senhora de Lourdes',\n",
    "'Pacatuba','Pirambu','Porto da Folha','Poço Redondo','Propriá','Santana do São Francisco','Idreg','São Francisco','Telha','Arapiraca','Batalha',\n",
    "'Belo Monte','Cacimbinhas','Campo Grande','Canapi','Carneiros','Coruripe','Craíbas','Dois Riachos','Estrela de Alagoas','Feira Grande',\n",
    "'Feliz Deserto','Girau do Ponciano','Igaci','Igreja Nova','Inhapi','Jacaré dos Homens','Jaramataia','Junqueiro','Lagoa da Canoa',\n",
    "'Limoeiro de Anadia','Major Isidoro','Maravilha','Minador do Negrão','Monteirópolis','Olho d\\'água das Flores','Olho d\\'água Grande',\n",
    "'Olivença','Ouro Branco','Palestina','Pão de Açúcar','Penedo','Piaçabuçu','Porto Real do Colégio','Poço das Trincheiras','Santana do Ipanema',\n",
    "'São Brás','São José da Tapera','São Sebastião','Senador Rui Palmeira','Teotônio Vilela','Traipu','Água Branca','Canindé de São Francisco',\n",
    "'Delmiro Gouveia','Glória','Inajá','Jatobá','Jeremoabo','Mata Grande','Olho d\\'água do Casado','Pariconha','Paulo Afonso','Pedro Alexandre',\n",
    "'Petrolândia','Piranhas','Santa Brígida','Tacaratu','Águas Belas','Afogados da Ingazeira','Alagoinha','Arcoverde','Betânia','Bom Conselho',\n",
    "'Brejinho','Buíque','Caetés','Calumbi','Carnaíba','Custódia','Flores','Iati','Ibimirim','Iguaraci','Ingazeira','Itaíba','Itapetim',\n",
    "'Manari','Paranatama','Pedra','Pesqueira','Quixaba','Saloá','Santa Cruz da Baixa Verde','Santa Terezinha','São José do Belmonte',\n",
    "'São José do Egito','Serra Talhada','Sertânia','Solidão','Tabira','Triunfo','Tupanatinga','Tuparetama','Venturosa','Abaré','Belém de São Francisco',\n",
    "'Cabrobó','Carnaubeira da Penha','Cedro','Chorrochó','Floresta','Itacuruba','Macururé','Mirandiba','Moreilândia','Parnamirim','Rodelas',\n",
    "'Salgueiro','Serrita','Terra Nova','Verdejante','Araripina','Bodocó','Exu','Granito','Ipubi','Ouricuri','Santa Cruz','Santa Filomena',\n",
    "'Trindade','Afrânio','Campo Alegre de Lourdes','Casa Nova','Curaçá','Dormentes','Jaguarari','Juazeiro','Lagoa Grande','Orocó','Petrolina',\n",
    "'Pilão Arcado','Remanso','Santa Maria da Boa Vista','Sento Sé','Sobradinho','Uauá','Barra','Buritirama','Gentio do Ouro','Itaguaçu da Bahia',\n",
    "'Xique-Xique','Érico Cardoso','Bom Jesus da Lapa','Boninal','Boquira','Botuporã','Brejolândia','Brotas de Macaúbas','Canópolis',\n",
    "'Caturama','Ibipitanga','Ibitiara','Ibotirama','Ipupiara','Macaúbas','Morpará','Muquém de São Francisco','Novo Horizonte','Oliveira dos Brejinhos',\n",
    "'Paramirim','Paratinga','Piatã','Rio de Contas','Rio do Pires','Santa Maria da Vitória','Santana','São Félix do Coribe','Seabra',\n",
    "'Serra do Ramalho','Serra Dourada','Sítio do Mato','Tabocas do Brejo Velho','Tanque Novo','Angical','Baianópolis','Barreiras',\n",
    "'Catolândia','Cocos','Coribe','Correntina','Cotegipe','Cristópolis','Formosa do Rio Preto','Jaborandi','Luís Eduardo Magalhães','Mansidão',\n",
    "'Riachão das Neves','Santa Rita de Cássia','São Desidério','Wanderley','Caetité','Candiba','Carinhanha','Catuti','Espinosa','Feira da Mata',\n",
    "'Gameleiras','Guanambi','Igaporã','Iuiú','Jacaraci','Jaíba','Janaúba','Malhada','Mamonas','Matias Cardoso','Matina','Mato Verde','Monte Azul',\n",
    "'Mortugaba','Nova Porteirinha','Pai Pedro','Palmas de Monte Alto','Pindaí','Porteirinha','Riacho de Santana','Riacho dos Machados',\n",
    "'Sebastião Laranjeiras','Serranópolis de Minas','Urandi','Varzelândia','Verdelândia','Bonito de Minas','Cônego Marinho','Ibiracatu','Itacarambi',\n",
    "'Januária','Juvenília','Manga','Miravânia','Montalvânia','Pedras de Maria da Cruz','São João das Missões','Arinos','Bonfinópolis de Minas',\n",
    "'Brasília','Buritis','Cabeceira Grande','Cabeceiras','Brasília','Cristalina','Dom Bosco','Formosa','Formoso','Guarda-Mor','Natalândia',\n",
    "'Paracatu','Riachinho','Unaí','Uruana de Minas','Arapuá','Carmo do Paranaíba','João Pinheiro','Lagamar','Lagoa Formosa','Lagoa Grande',\n",
    "'Matutina','Patos de Minas','Presidente Olegário','Rio Paranaíba','Santa Rosa da Serra','Patos de Minas','São Gotardo','Tiros','Varjão de Minas',\n",
    "'Vazante','Chapada Ga·cha','São Gonþalo do Abaeté','Bocaiúva','Brasilândia de Minas','Brasília de Minas','Buenópolis','Buritizeiro','Campo Azul',\n",
    "'Capitão Enéas','Claro dos Poções','Coração de Jesus','Engenheiro Navarro','Francisco Dumont','Francisco Sá','Glaucilândia','Guaraciama','Ibiaí',\n",
    "'Icaraí de Minas','Japonvar','Jequitaí','Joaquim Felício','Juramento','Lagoa dos Patos','Lassance','Lontra','Luislândia','Mirabela','Montes Claros',\n",
    "\"Olhos d'água\",'Patis','Pintópolis','Pirapora','Ponto Chique','Santa Fé de Minas','São Francisco','São João da Lagoa','São João da Ponte','São João do Pacuí',\n",
    "'São Romão','Ubaí','Urucuia','Várzea da Palma','Abaeté','Belo Horizonte','Araújos','Arcos','Augusto de Lima','Baldim','Bambuí',\n",
    "'Belo Horizonte','Belo Vale','Betim','Biquinhas','Bom Despacho','Bonfim','Brumadinho','Araþaí','Cachoeira da Prata','Caetanópolis',\n",
    "'Caeté','Campos Altos','Capim Branco','Carmo da Mata','Carmo do Cajuru','Carmópolis de Minas','Casa Grande','Cedro do Abaeté','Cláudio',\n",
    "'Conceição do Pará','Conceição do Mato Dentro','Confins','Congonhas','Congonhas do Norte','Conselheiro Lafaiete',\n",
    "'Contagem','Cordisburgo','Corinto','Córrego Danta','Córrego Fundo','Cristiano Otoni','Crucilândia','Curvelo','Datas',\n",
    "'Desterro de Entre Rios','Diamantina','Divinópolis','Dores do Indaiá','Doresópolis','Entre Rios de Minas','Esmeraldas',\n",
    "'Estrela do Indaiá','Felixlândia','Florestal','Formiga','Fortuna de Minas','Funilândia','Gouveia','Ibirité','Igarapé',\n",
    "'Igaratinga','Iguatama','Inhaúma','Inimutaba','Itaúna','Itabirito','Itaguara','Itapecerica','Belo Horizonte',\n",
    "'Itaverava','Jaboticatubas','Japaraíba','Itatiaiuþu','Jeceaba','Jequitibá','Juatuba','Lagoa da Prata','Lagoa Dourada','Lagoa Santa',\n",
    "'Leandro Ferreira','Luz','Maravilhas','Martinho Campos','Mateus Leme','Matozinhos','Medeiros','Moeda','Moema','Monjolos','Morada Nova de Minas',\n",
    "'Morro da Garça','Mário Campos','Nova Lima','Nova Serrana','Nova União','Oliveira','Onça de Pitangui','Ouro Branco','Ouro Preto',\n",
    "'Paineiras','Pains','Papagaios','Paraopeba','Pará de Minas','Passa Tempo','Pedra do Indaiá','Pedro Leopoldo','Pequi','Perdigão',\n",
    "'Piedade dos Gerais','Pimenta','Piracema','Pitangui','Piumhi','Pompéu','Presidente Juscelino','Presidente Kubitschek','Prudente de Morais',\n",
    "'Quartel Geral','Queluzito','Raposos','Resende Costa','Ribeirão das Neves','Rio Acima','Rio Manso','Sabará',\n",
    "'Santa Luzia','Santana de Pirapama','Santana do Riacho','Santo Antônio do Monte','Santo Hipólito',\n",
    "'São Brás do Suaçuí','São Francisco de Paula','São Gonçalo do Pará','São Joaquim de Bicas','São José da Lapa',\n",
    "'São José da Varginha','São Roque de Minas','São Sebastião do Oeste','Sarzedo','Serra da Saudade','Sete Lagoas',\n",
    "'Tapiraí','Belo Horizonte','Três Marias','Vargem Bonita','Vespasiano','Taquaraþu de Minas',\n",
    "]\n",
    "\n",
    "#do the filter\n",
    "export_csv_municipios(bacia_rio_sao_francisco,'rio_sao_francisco.csv')\n",
    "pandas.read_csv('rio_sao_francisco.csv', delimiter = ';', encoding='latin-1')"
   ]
  },
  {
   "cell_type": "markdown",
   "metadata": {},
   "source": [
    "><a href=\"https://www.mma.gov.br/estruturas/161/_publicacao/161_publicacao03032011023605.pdf\">Municípios Rio Parnaiba (page 125)</a>"
   ]
  },
  {
   "cell_type": "code",
   "execution_count": null,
   "metadata": {},
   "outputs": [],
   "source": [
    "rio_parnaiba = [\n",
    "    'Balsas','São Raimundo das Mangabeiras','Riachão',\n",
    "    'Uruçui','Pastos Bons','Alto Parnaíba','Corrente',\n",
    "    'Bom Jesus','Monte Alegre do Piauí','Floriano',\n",
    "    'Barão de Grajaú','Itauira','Picos','Oeiras',\n",
    "    'São Raimundo Nonato','Teresina','Timon','Crateús',\n",
    "    'Parnaíba','Piripiri','Campo Maior'\n",
    "]\n",
    "export_csv_municipios(rio_parnaiba,'rio_parnaiba.csv')\n",
    "pandas.read_csv('rio_parnaiba.csv', delimiter = ';', encoding='latin-1')"
   ]
  },
  {
   "cell_type": "markdown",
   "metadata": {},
   "source": [
    "End of the queries, close the program"
   ]
  },
  {
   "cell_type": "code",
   "execution_count": null,
   "metadata": {},
   "outputs": [],
   "source": [
    "#Close the DB connection\n",
    "con.close()\n",
    "print(\"End :)\")\n",
    "exit(1)"
   ]
  }
 ],
 "metadata": {
  "kernelspec": {
   "display_name": "Python 3",
   "language": "python",
   "name": "python3"
  },
  "language_info": {
   "codemirror_mode": {
    "name": "ipython",
    "version": 3
   },
   "file_extension": ".py",
   "mimetype": "text/x-python",
   "name": "python",
   "nbconvert_exporter": "python",
   "pygments_lexer": "ipython3",
   "version": "3.7.3"
  }
 },
 "nbformat": 4,
 "nbformat_minor": 2
}
